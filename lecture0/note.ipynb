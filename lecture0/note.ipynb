{
 "cells": [
  {
   "cell_type": "markdown",
   "metadata": {},
   "source": [
    "###Topic: Search\n",
    "\n",
    "Terminologies:\n",
    "+ Agent: entity that perceives its environment and acts upon that environment\n",
    "+ State: a configuration of the agent and its environment\n",
    "+ Initial state: 1st step of the agent\n",
    "+ Actions: "
   ]
  }
 ],
 "metadata": {
  "language_info": {
   "name": "python"
  },
  "orig_nbformat": 4
 },
 "nbformat": 4,
 "nbformat_minor": 2
}
