{
 "cells": [
  {
   "cell_type": "markdown",
   "metadata": {},
   "source": [
    "## Topic: Search\n",
    "### Terminologies:\n",
    "+ Agent: entity that perceives its environment and acts upon that environment\n",
    "+ State: a configuration of the agent and its environment\n",
    "+ Initial state: 1st step of the agent\n",
    "+ Actions: choices can be made in a state => ACTION(s) returns the set of actions that can be executed in state s"
   ]
  },
  {
   "cell_type": "markdown",
   "metadata": {},
   "source": [
    "#### Transition model\n",
    "a description of what state results from performing any applicable action in any state\n",
    "\n",
    "=> RESULT(s,a) returns the state resulting from performing action a in state s"
   ]
  },
  {
   "cell_type": "markdown",
   "metadata": {},
   "source": [
    "#### State space\n",
    "\n",
    "The set of all states reachable from the initial state by any sequence of actions"
   ]
  },
  {
   "cell_type": "markdown",
   "metadata": {},
   "source": []
  }
 ],
 "metadata": {
  "language_info": {
   "name": "python"
  },
  "orig_nbformat": 4
 },
 "nbformat": 4,
 "nbformat_minor": 2
}
