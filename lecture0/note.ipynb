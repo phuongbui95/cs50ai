{
 "cells": [
  {
   "cell_type": "markdown",
   "metadata": {},
   "source": [
    "## Topic: Search\n",
    "### Terminologies:\n",
    "+ Agent: entity that perceives its environment and acts upon that environment\n",
    "+ State: a configuration of the agent and its environment\n",
    "+ Initial state: 1st step of the agent\n",
    "+ Actions: choices can be made in a state => ACTION(s) returns the set of actions that can be executed in state s"
   ]
  },
  {
   "cell_type": "markdown",
   "metadata": {},
   "source": [
    "#### Transition model\n",
    "a description of what state results from performing any applicable action in any state\n",
    "\n",
    "=> RESULT(s,a) returns the state resulting from performing action a in state s"
   ]
  },
  {
   "cell_type": "markdown",
   "metadata": {},
   "source": [
    "#### State space\n",
    "\n",
    "The set of all states reachable from the initial state by any sequence of actions"
   ]
  },
  {
   "cell_type": "markdown",
   "metadata": {},
   "source": [
    "#### Goal test\n",
    "\n",
    "way to determine whether a given state is a goal state"
   ]
  },
  {
   "cell_type": "markdown",
   "metadata": {},
   "source": [
    "#### Path cost\n",
    "\n",
    "numerical cost associated with a given path"
   ]
  },
  {
   "cell_type": "markdown",
   "metadata": {},
   "source": [
    "## Search Problems\n",
    "+ Initial state\n",
    "+ Actions\n",
    "+ Transition model\n",
    "+ Goal test\n",
    "+ Path cost function"
   ]
  },
  {
   "cell_type": "markdown",
   "metadata": {},
   "source": [
    "### Solution: a sequence of actions that leads from the initial state to a goal state\n",
    "\n",
    "#### Optimal solution: a solution that has the lowest path cost among all solutions"
   ]
  },
  {
   "cell_type": "markdown",
   "metadata": {},
   "source": [
    "## Node\n",
    "A data structure that keeps track of:\n",
    "+ a state\n",
    "+ a parent (node that generated this node)\n",
    "+ an action (action applied to parent to get node)\n",
    "+ a path cost (from initial state to node)"
   ]
  },
  {
   "cell_type": "markdown",
   "metadata": {},
   "source": [
    "## Approach\n",
    "+ Start with a frontier that contains the initial state.\n",
    "+ Repeat:\n",
    "    + If the frontiers is empty, then no solution.\n",
    "    + Remove a node from the frontier.\n",
    "    + If node contains goal state, return the solution.\n",
    "    + Expand node, add resulting nodes to the frontiers."
   ]
  },
  {
   "cell_type": "markdown",
   "metadata": {},
   "source": [
    "## Revised Approach\n",
    "+ Start with a frontier that contains the initial state\n",
    "+ Start with an empty explored set\n",
    "+ Repeat:\n",
    "    + If the frontiers is empty, then no solution.\n",
    "    + Remove a node from the frontier.\n",
    "    + If node contains goal state, return the solution.\n",
    "    + Add the node to the explored set.\n",
    "    + Expand node, add resulting nodes to the frontiers if they aren't already in the frontier or the explored set."
   ]
  },
  {
   "cell_type": "markdown",
   "metadata": {},
   "source": [
    "## Depth-first search\n",
    "search algorithm that always expands the deepest node in the frontier\n",
    "### stack\n",
    "last-in first-out data type"
   ]
  },
  {
   "cell_type": "markdown",
   "metadata": {},
   "source": [
    "## Breadth-first search\n",
    "search algorithm that always expands the shallowest node in the frontier\n",
    "#### queue\n",
    "first-in first-out data type"
   ]
  },
  {
   "cell_type": "markdown",
   "metadata": {},
   "source": [
    "## Uninformed Search\n",
    "search strategy that uses no problem-specific knowledge"
   ]
  },
  {
   "cell_type": "markdown",
   "metadata": {},
   "source": [
    "## Informed search\n",
    "search strategy that uses problem-specific knowledge to find solutions more efficiently"
   ]
  },
  {
   "cell_type": "markdown",
   "metadata": {},
   "source": [
    "## Greedy best-first search\n",
    "search algorithm that expands the node that is closest to the goal, as estimated by a heuristic function <i>h(n)<i>\n",
    "=> Manhattan distance"
   ]
  },
  {
   "cell_type": "markdown",
   "metadata": {},
   "source": [
    "## A* search\n",
    "search algorithm that expands node"
   ]
  }
 ],
 "metadata": {
  "language_info": {
   "name": "python"
  },
  "orig_nbformat": 4
 },
 "nbformat": 4,
 "nbformat_minor": 2
}
